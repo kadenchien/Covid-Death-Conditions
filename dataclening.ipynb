{
 "cells": [
  {
   "cell_type": "markdown",
   "metadata": {},
   "source": [
    "# Import Data\n",
    "First, import the datasets from google COVID data, and CDC "
   ]
  },
  {
   "cell_type": "code",
   "execution_count": null,
   "metadata": {},
   "outputs": [],
   "source": [
    "import pandas\n",
    "import matplotlib.pyplot as plt\n",
    "import seaborn as sns\n",
    "google_indices = pandas.read_csv(\"https://storage.googleapis.com/covid19-open-data/v3/index.csv\")\n",
    "google_demo = pandas.read_csv(\"https://storage.googleapis.com/covid19-open-data/v3/demographics.csv\")\n",
    "google_epi = pandas.read_csv(\"https://storage.googleapis.com/covid19-open-data/v3/epidemiology.csv\")\n",
    "google_hosp = pandas.read_csv(\"https://storage.googleapis.com/covid19-open-data/v3/hospitalizations.csv\")\n",
    "CDC_data = pandas.read_csv(\"Provisional_COVID-19_Deaths_by_Sex_and_Age_20240330.csv\")"
   ]
  },
  {
   "cell_type": "code",
   "execution_count": null,
   "metadata": {},
   "outputs": [],
   "source": [
    "google_indices.head()"
   ]
  },
  {
   "cell_type": "code",
   "execution_count": null,
   "metadata": {},
   "outputs": [],
   "source": [
    "google_demo.head()"
   ]
  },
  {
   "cell_type": "code",
   "execution_count": null,
   "metadata": {},
   "outputs": [],
   "source": [
    "google_epi.head()"
   ]
  },
  {
   "cell_type": "code",
   "execution_count": null,
   "metadata": {},
   "outputs": [],
   "source": [
    "google_hosp.head()"
   ]
  },
  {
   "cell_type": "markdown",
   "metadata": {},
   "source": [
    "## Combine google subsets\n",
    "\n",
    "The above subsets can be matched using location_key, so concatenate them into one full dataset. However, the datasets are too large to use pd.merge, so instead just import the aggregated csv from google and work with it."
   ]
  },
  {
   "cell_type": "code",
   "execution_count": null,
   "metadata": {},
   "outputs": [],
   "source": [
    "google_aggregate = pandas.read_csv(\"https://storage.googleapis.com/covid19-open-data/v3/location/US.csv\", dtype=str)"
   ]
  },
  {
   "cell_type": "code",
   "execution_count": null,
   "metadata": {},
   "outputs": [],
   "source": [
    "google_aggregate.head()"
   ]
  },
  {
   "cell_type": "code",
   "execution_count": null,
   "metadata": {},
   "outputs": [],
   "source": [
    "CDC_data.head()"
   ]
  },
  {
   "cell_type": "markdown",
   "metadata": {},
   "source": [
    "### Make subsets\n",
    "\n",
    "From the above head, we can see that the rows are categorized by date, but individual rows depend on factors such as age group, sex, etc."
   ]
  },
  {
   "cell_type": "code",
   "execution_count": null,
   "metadata": {},
   "outputs": [],
   "source": [
    "CDC_filtered = CDC_data[(CDC_data['State'] == 'United States') & (CDC_data['Sex'] == 'All Sexes') & (CDC_data['Age Group'] == 'All Ages')]\n",
    "CDC_filtered.head()"
   ]
  },
  {
   "cell_type": "code",
   "execution_count": null,
   "metadata": {},
   "outputs": [],
   "source": [
    "import seaborn as sns\n",
    "import matplotlib.pyplot as plt\n",
    "sns.scatterplot(data=CDC_filtered, x='Pneumonia Deaths', y='COVID-19 Deaths', legend='full')\n",
    "plt.yscale('log')\n",
    "plt.xscale('log')\n",
    "plt.title('Pneumonia Deaths vs. COVID-19 Deaths (Log Scale)')"
   ]
  },
  {
   "cell_type": "code",
   "execution_count": null,
   "metadata": {},
   "outputs": [],
   "source": [
    "CDC_age_total = CDC_data[(CDC_data['State'] == 'United States') & (CDC_data['Sex'] == 'All Sexes') & (CDC_data['Start Date'] == '01/01/2020') & (CDC_data['End Date'] == '09/23/2023')]\n",
    "CDC_age_total = CDC_age_total[CDC_age_total['Age Group'] != 'All Ages']\n",
    "CDC_age_total['Covid Death Proportion'] = CDC_age_total['COVID-19 Deaths']/CDC_age_total['Total Deaths']\n",
    "CDC_age_total"
   ]
  },
  {
   "cell_type": "code",
   "execution_count": null,
   "metadata": {},
   "outputs": [],
   "source": [
    "plot = sns.catplot(x='Age Group', y='Covid Death Proportion', data=CDC_age_total, kind='bar', palette='muted', height=6, aspect=2)\n",
    "plot.set_xticklabels(rotation=45, ha='right')\n",
    "plt.title('COVID-19 Deaths by Age Group in the United States')"
   ]
  }
 ],
 "metadata": {
  "kernelspec": {
   "display_name": "Python 3 (ipykernel)",
   "language": "python",
   "name": "python3"
  },
  "language_info": {
   "codemirror_mode": {
    "name": "ipython",
    "version": 3
   },
   "file_extension": ".py",
   "mimetype": "text/x-python",
   "name": "python",
   "nbconvert_exporter": "python",
   "pygments_lexer": "ipython3",
   "version": "3.11.5"
  }
 },
 "nbformat": 4,
 "nbformat_minor": 2
}
